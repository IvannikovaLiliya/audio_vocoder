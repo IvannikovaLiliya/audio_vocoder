{
 "cells": [
  {
   "cell_type": "code",
   "execution_count": null,
   "metadata": {},
   "outputs": [],
   "source": [
    "!. istftnet_env/bin/activate"
   ]
  },
  {
   "cell_type": "code",
   "execution_count": null,
   "metadata": {},
   "outputs": [],
   "source": [
    "import sys\n",
    "sys.path.append('/Users/liliyaivannikova/Documents/vkr/pytorch_project/audio_vocoder')"
   ]
  },
  {
   "cell_type": "code",
   "execution_count": null,
   "metadata": {},
   "outputs": [],
   "source": [
    "import warnings\n",
    "\n",
    "warnings.simplefilter(action=\"ignore\", category=FutureWarning)\n",
    "\n",
    "from __future__ import absolute_import, division, print_function, unicode_literals\n",
    "import argparse\n",
    "import glob\n",
    "import os, sys\n",
    "import json\n",
    "import torch\n",
    "from src.utils.utils import AttrDict\n",
    "from src.datasets.dataset import mel_spectrogram\n",
    "import soundfile as sf\n",
    "import numpy as np\n",
    "import soundfile as sf\n",
    "import librosa as lib\n",
    "import time\n",
    "import tqdm"
   ]
  },
  {
   "cell_type": "markdown",
   "metadata": {},
   "source": [
    "# инференс"
   ]
  },
  {
   "cell_type": "code",
   "execution_count": null,
   "metadata": {},
   "outputs": [],
   "source": [
    "h = None\n",
    "device = 'cpu'\n",
    "\n",
    "def load_checkpoint(filepath, device):\n",
    "    assert os.path.isfile(filepath)\n",
    "    print(\"Loading '{}'\".format(filepath))\n",
    "    checkpoint_dict = torch.load(filepath, map_location=device)\n",
    "    print(\"Complete.\")\n",
    "    return checkpoint_dict\n",
    "\n",
    "def get_mel(h, x):\n",
    "    return mel_spectrogram(x, h.n_fft, h.num_mels, h.sampling_rate, h.hop_size, h.win_size, h.fmin, h.fmax)\n",
    "\n",
    "def scan_checkpoint(cp_dir, prefix):\n",
    "    pattern = os.path.join(cp_dir, prefix + '*')\n",
    "    cp_list = glob.glob(pattern)\n",
    "    if len(cp_list) == 0:\n",
    "        return ''\n",
    "    return sorted(cp_list)[-1]\n",
    "\n",
    "def inference(h, model):\n",
    "    generator = model(h).to(device)\n",
    "\n",
    "    state_dict_g = load_checkpoint(h.checkpoint_file_load, device)\n",
    "    generator.load_state_dict(state_dict_g['generator'])\n",
    "\n",
    "    post_str = os.path.splitext(h.test_input_wavs_dir)[-1]\n",
    "    if post_str in ['.txt', '.scp']:\n",
    "        filelist = []\n",
    "        lines = open(h.test_input_wavs_dir, 'r').readlines()\n",
    "        for l in lines:\n",
    "            cur_filename = l.strip().split('/')[1].split('|')[0]\n",
    "            filelist.append(os.path.join(h.raw_wavfile_path, cur_filename))\n",
    "    else:  # dir\n",
    "        filelist = sorted(os.listdir(h.test_input_mels_dir if h.test_mel_load else h.test_input_wavs_dir))\n",
    "\n",
    "    os.makedirs(h.test_output_dir, exist_ok=True)\n",
    "\n",
    "    generator.eval()\n",
    "    try:\n",
    "        generator.remove_weight_norm()\n",
    "    except:\n",
    "        pass\n",
    "    l = 0\n",
    "    with torch.no_grad():\n",
    "        starttime = time.time()\n",
    "        for filename in tqdm.tqdm(filelist):\n",
    "            # if h.test_mel_load:\n",
    "            if h.test_mel_load:\n",
    "                mel = np.load(os.path.join(h.test_input_wavs_dir, filename))\n",
    "                x = torch.FloatTensor(mel).to(device)\n",
    "                x = x.transpose(1,2)\n",
    "            else:\n",
    "                if post_str in ['.txt', '.scp']:\n",
    "                    raw_wav, orig_sr = sf.read(filename)\n",
    "                else:\n",
    "                    raw_wav, orig_sr = sf.read(os.path.join(h.test_input_wavs_dir, filename))\n",
    "                if orig_sr != h.sampling_rate:\n",
    "                    raw_wav = lib.core.resample(raw_wav, orig_sr=orig_sr, target_sr=h.sampling_rate)\n",
    "\n",
    "                raw_wav = torch.FloatTensor(raw_wav)\n",
    "                x = get_mel(h, raw_wav.unsqueeze(0))\n",
    "            \n",
    "            y_g_list = generator(x)\n",
    "            if isinstance(y_g_list, torch.Tensor): \n",
    "                y_g = y_g_list\n",
    "            else:\n",
    "                y_g = y_g_list[-1]  \n",
    "            audio = y_g.squeeze()\n",
    "            audio = audio.cpu().numpy()\n",
    "            audiolen=len(audio)\n",
    "            if post_str in ['.txt', '.scp']:\n",
    "                sf.write(os.path.join(h.test_output_dir, filename.split('/')[-1]), audio, h.sampling_rate, 'PCM_16')\n",
    "            else:\n",
    "                sf.write(os.path.join(h.test_output_dir, filename.split('.')[0] + '.wav'), audio, h.sampling_rate, 'PCM_16')\n",
    "\n",
    "            # print(pp)\n",
    "            l += audiolen\n",
    "        end=time.time()\n",
    "        print(end-starttime)\n",
    "        print(l/22050)\n",
    "        print(l/22050/(end-starttime)) "
   ]
  },
  {
   "cell_type": "code",
   "execution_count": null,
   "metadata": {},
   "outputs": [],
   "source": []
  },
  {
   "cell_type": "markdown",
   "metadata": {},
   "source": [
    "# hifigan v1"
   ]
  },
  {
   "cell_type": "code",
   "execution_count": null,
   "metadata": {},
   "outputs": [],
   "source": []
  },
  {
   "cell_type": "code",
   "execution_count": null,
   "metadata": {},
   "outputs": [],
   "source": [
    "import sys\n",
    "sys.path.insert(0,'./pretrained/')"
   ]
  },
  {
   "cell_type": "code",
   "execution_count": null,
   "metadata": {},
   "outputs": [
    {
     "name": "stdout",
     "output_type": "stream",
     "text": [
      "Using device: cpu\n",
      "Loading '/Users/liliyaivannikova/Documents/vkr/pytorch_project/research/istftnet/pretrained/pretrained/hifigan'\n",
      "Complete.\n",
      "Removing weight norm...\n"
     ]
    },
    {
     "name": "stderr",
     "output_type": "stream",
     "text": [
      "100%|██████████| 500/500 [14:54<00:00,  1.79s/it]"
     ]
    },
    {
     "name": "stdout",
     "output_type": "stream",
     "text": [
      "894.5425992012024\n",
      "3273.6072562358277\n",
      "3.659531987810366\n"
     ]
    },
    {
     "name": "stderr",
     "output_type": "stream",
     "text": [
      "\n"
     ]
    }
   ],
   "source": [
    "import os\n",
    "import argparse\n",
    "import json\n",
    "import torch\n",
    "\n",
    "from pretrained.Models.hifigan import HiFiGAN\n",
    "from src.utils import utils\n",
    "\n",
    "def main():\n",
    "    \n",
    "    parser = argparse.ArgumentParser(description='Vocoder training configuration')\n",
    "    \n",
    "    cfg_filename = '/Users/liliyaivannikova/Documents/vkr/pytorch_project/research/istftnet/pretrained/cfgs/hifigan_v1_config.json'  \n",
    "    \n",
    "    with open(cfg_filename, 'r') as f:\n",
    "        json_config = json.load(f)\n",
    "    \n",
    "    h = AttrDict(json_config)\n",
    "    \n",
    "    torch.manual_seed(h.seed)\n",
    "    device = torch.device('cuda' if torch.cuda.is_available() else 'cpu')\n",
    "    print(f\"Using device: {device}\")\n",
    "    \n",
    "    inference(h, HiFiGAN)\n",
    "\n",
    "if __name__ == '__main__':\n",
    "    main()"
   ]
  },
  {
   "cell_type": "markdown",
   "metadata": {},
   "source": [
    "## метрики"
   ]
  },
  {
   "cell_type": "markdown",
   "metadata": {},
   "source": [
    "## lsd"
   ]
  },
  {
   "cell_type": "code",
   "execution_count": null,
   "metadata": {},
   "outputs": [],
   "source": [
    "from src.metrics.lsd import las_rmse, cal_lsd_wrapper"
   ]
  },
  {
   "cell_type": "code",
   "execution_count": null,
   "metadata": {},
   "outputs": [],
   "source": [
    "ref_dir = \"/Users/liliyaivannikova/Documents/vkr/pytorch_project/audio_vocoder/data/wavs\"\n",
    "deg_dir = \"/Users/liliyaivannikova/Documents/vkr/pytorch_project/research/istftnet/pretrained/pretrained/HiFiGAN_v1\"\n",
    "sr = 22050  "
   ]
  },
  {
   "cell_type": "code",
   "execution_count": null,
   "metadata": {},
   "outputs": [
    {
     "name": "stderr",
     "output_type": "stream",
     "text": [
      "100%|██████████| 500/500 [00:05<00:00, 88.59it/s]"
     ]
    },
    {
     "name": "stdout",
     "output_type": "stream",
     "text": [
      "Mean LSD score: 1.0474\n",
      "Standard deviation of LSD: 0.0214\n"
     ]
    },
    {
     "name": "stderr",
     "output_type": "stream",
     "text": [
      "\n"
     ]
    }
   ],
   "source": [
    "def build_ref_dict(ref_dir):\n",
    "    ref_full_path_dict = {}\n",
    "    for root, _, files in os.walk(ref_dir):\n",
    "        for filename in files:\n",
    "            if filename.endswith(\".wav\"):\n",
    "                ref_full_path_dict[filename] = root\n",
    "    return ref_full_path_dict\n",
    "\n",
    "ref_dict = build_ref_dict(ref_dir)\n",
    "\n",
    "mean_lsd, std_lsd = cal_lsd_wrapper(ref_dict, deg_dir, sr=sr)\n",
    "print(f\"Mean LSD score: {mean_lsd:.4f}\")\n",
    "print(f\"Standard deviation of LSD: {std_lsd:.4f}\")"
   ]
  },
  {
   "cell_type": "markdown",
   "metadata": {},
   "source": [
    "## PESQ"
   ]
  },
  {
   "cell_type": "code",
   "execution_count": null,
   "metadata": {},
   "outputs": [],
   "source": [
    "from src.metrics.pesq_ import cal_pesq_wrapper\n",
    "from glob import glob\n",
    "import multiprocessing as mp"
   ]
  },
  {
   "cell_type": "code",
   "execution_count": null,
   "metadata": {},
   "outputs": [
    {
     "name": "stderr",
     "output_type": "stream",
     "text": [
      "100%|██████████| 125/125 [00:12<00:00,  9.70it/s]\n",
      "100%|██████████| 125/125 [00:13<00:00,  9.50it/s]\n",
      "100%|██████████| 125/125 [00:13<00:00,  9.58it/s]\n"
     ]
    },
    {
     "name": "stdout",
     "output_type": "stream",
     "text": [
      "PESQ score: mean=3.2495, std=0.1690\n"
     ]
    },
    {
     "name": "stderr",
     "output_type": "stream",
     "text": [
      "100%|██████████| 125/125 [00:13<00:00,  9.28it/s]\n"
     ]
    }
   ],
   "source": [
    "gen_files = glob(f\"{deg_dir}/*.wav\")\n",
    "\n",
    "# Разбиваем на партиции для многопоточности\n",
    "num_jobs = 4\n",
    "file_lists = np.array_split(gen_files, num_jobs)\n",
    "file_lists = [f_list.tolist() for f_list in file_lists]\n",
    "\n",
    "# Запуск в процессах\n",
    "with mp.Manager() as manager:\n",
    "    pesq_dict = manager.dict()\n",
    "    processes = []\n",
    "\n",
    "    for f in file_lists:\n",
    "        p = mp.Process(target=cal_pesq_wrapper, args=(ref_dict, f, sr, pesq_dict))\n",
    "        p.start()\n",
    "        processes.append(p)\n",
    "\n",
    "    for p in processes:\n",
    "        p.join()\n",
    "\n",
    "    # Обработка результатов\n",
    "    pesq_scores = list(pesq_dict.values())\n",
    "    mean_pesq = np.mean(pesq_scores)\n",
    "    std_pesq = np.std(pesq_scores)\n",
    "\n",
    "    print(f\"PESQ score: mean={mean_pesq:.4f}, std={std_pesq:.4f}\")"
   ]
  },
  {
   "cell_type": "markdown",
   "metadata": {},
   "source": [
    "## FO"
   ]
  },
  {
   "cell_type": "code",
   "execution_count": null,
   "metadata": {},
   "outputs": [
    {
     "name": "stdout",
     "output_type": "stream",
     "text": [
      "2025-05-18 20:44:40,279 (evaluate_f0:351) INFO: The number of utterances = 500\n",
      "2025-05-18 20:50:05,517 (evaluate_f0:388) INFO: Average - log_F0-RMSE: 0.1860 ± 0.0846\n",
      "2025-05-18 20:50:05,517 (evaluate_f0:393) INFO: Average - Semitone_ACC: 55.49%\n",
      "2025-05-18 20:50:05,518 (evaluate_f0:396) INFO: Average - VUV_ERROR: 11.52%\n",
      "2025-05-18 20:50:05,546 (evaluate_f0:422) INFO: Successfully finished F0 related evaluation.\n"
     ]
    }
   ],
   "source": [
    "!python /Users/liliyaivannikova/Documents/vkr/pytorch_project/research/istftnet/pretrained/Metrics/evaluate_f0.py\\\n",
    "                --raw_wavdir='/Users/liliyaivannikova/Documents/vkr/pytorch_project/audio_vocoder/data/wavs' \\\n",
    "                --gt_wavdir_or_wavscp='/Users/liliyaivannikova/Documents/vkr/pytorch_project/audio_vocoder/data/descr/test.txt' \\\n",
    "                --gen_wavdir_or_wavscp='/Users/liliyaivannikova/Documents/vkr/pytorch_project/research/istftnet/pretrained/pretrained/HiFiGAN_v1'\\\n",
    "                --outdir='/Users/liliyaivannikova/Documents/vkr/pytorch_project/research/istftnet/pretrained/pretrained/HiFiGAN_v1_fo'\n"
   ]
  },
  {
   "cell_type": "code",
   "execution_count": null,
   "metadata": {},
   "outputs": [],
   "source": []
  },
  {
   "cell_type": "code",
   "execution_count": null,
   "metadata": {},
   "outputs": [],
   "source": [
    "import importlib\n",
    "import pretrained.Metrics.periodicity_ as periodicity_module\n",
    "\n",
    "importlib.reload(periodicity_module)\n",
    "\n",
    "from pretrained.Metrics.periodicity_ import batch_calculate_periodicity"
   ]
  },
  {
   "cell_type": "code",
   "execution_count": null,
   "metadata": {},
   "outputs": [
    {
     "name": "stderr",
     "output_type": "stream",
     "text": [
      "  0%|          | 0/500 [00:00<?, ?it/s]"
     ]
    }
   ],
   "source": [
    "mean_per, std_per = batch_calculate_periodicity(ref_dict, deg_dir)\n",
    "print(f\"Mean Periodicity score: {mean_per:.4f}\")\n",
    "print(f\"Standard deviation of Periodicity: {std_per:.4f}\")"
   ]
  },
  {
   "cell_type": "code",
   "execution_count": null,
   "metadata": {},
   "outputs": [],
   "source": []
  },
  {
   "cell_type": "code",
   "execution_count": null,
   "metadata": {},
   "outputs": [],
   "source": []
  },
  {
   "cell_type": "markdown",
   "metadata": {},
   "source": [
    "# istftnet"
   ]
  },
  {
   "cell_type": "code",
   "execution_count": null,
   "metadata": {},
   "outputs": [
    {
     "name": "stdout",
     "output_type": "stream",
     "text": [
      "Using device: cpu\n",
      "Loading '/Users/liliyaivannikova/Documents/vkr/pytorch_project/research/istftnet/pretrained/pretrained/istftnet'\n",
      "Complete.\n",
      "Removing weight norm...\n"
     ]
    },
    {
     "name": "stderr",
     "output_type": "stream",
     "text": [
      "100%|██████████| 500/500 [07:19<00:00,  1.14it/s]"
     ]
    },
    {
     "name": "stdout",
     "output_type": "stream",
     "text": [
      "439.7062659263611\n",
      "3273.6072562358277\n",
      "7.444986596538673\n"
     ]
    },
    {
     "name": "stderr",
     "output_type": "stream",
     "text": [
      "\n"
     ]
    }
   ],
   "source": [
    "import os\n",
    "import argparse\n",
    "import json\n",
    "import torch\n",
    "import tqdm\n",
    "\n",
    "from pretrained.Models.istftnet import iSTFTNet\n",
    "from src.utils import utils\n",
    "\n",
    "def main():\n",
    "    \n",
    "    parser = argparse.ArgumentParser(description='Vocoder training configuration')\n",
    "    \n",
    "    cfg_filename = '/Users/liliyaivannikova/Documents/vkr/pytorch_project/research/istftnet/pretrained/cfgs/istftnet_config.json'  \n",
    "    \n",
    "    with open(cfg_filename, 'r') as f:\n",
    "        json_config = json.load(f)\n",
    "    \n",
    "    h = AttrDict(json_config)\n",
    "    \n",
    "    torch.manual_seed(h.seed)\n",
    "    device = torch.device('cuda' if torch.cuda.is_available() else 'cpu')\n",
    "    print(f\"Using device: {device}\")\n",
    "    \n",
    "    inference(h, iSTFTNet)\n",
    "\n",
    "if __name__ == '__main__':\n",
    "    main()"
   ]
  },
  {
   "cell_type": "markdown",
   "metadata": {},
   "source": [
    "## метрики"
   ]
  },
  {
   "cell_type": "markdown",
   "metadata": {},
   "source": [
    "## lsd"
   ]
  },
  {
   "cell_type": "code",
   "execution_count": null,
   "metadata": {},
   "outputs": [],
   "source": [
    "from src.metrics.lsd import las_rmse, cal_lsd_wrapper"
   ]
  },
  {
   "cell_type": "code",
   "execution_count": null,
   "metadata": {},
   "outputs": [],
   "source": [
    "ref_dir = \"/Users/liliyaivannikova/Documents/vkr/pytorch_project/audio_vocoder/data/wavs\"\n",
    "deg_dir = \"/Users/liliyaivannikova/Documents/vkr/pytorch_project/research/istftnet/pretrained/pretrained/ISTftnet_v1\"\n",
    "sr = 22050  "
   ]
  },
  {
   "cell_type": "code",
   "execution_count": null,
   "metadata": {},
   "outputs": [
    {
     "name": "stderr",
     "output_type": "stream",
     "text": [
      "100%|██████████| 500/500 [00:04<00:00, 101.71it/s]"
     ]
    },
    {
     "name": "stdout",
     "output_type": "stream",
     "text": [
      "Mean LSD score: 1.0713\n",
      "Standard deviation of LSD: 0.0205\n"
     ]
    },
    {
     "name": "stderr",
     "output_type": "stream",
     "text": [
      "\n"
     ]
    }
   ],
   "source": [
    "def build_ref_dict(ref_dir):\n",
    "    ref_full_path_dict = {}\n",
    "    for root, _, files in os.walk(ref_dir):\n",
    "        for filename in files:\n",
    "            if filename.endswith(\".wav\"):\n",
    "                ref_full_path_dict[filename] = root\n",
    "    return ref_full_path_dict\n",
    "\n",
    "ref_dict = build_ref_dict(ref_dir)\n",
    "\n",
    "mean_lsd, std_lsd = cal_lsd_wrapper(ref_dict, deg_dir, sr=sr)\n",
    "print(f\"Mean LSD score: {mean_lsd:.4f}\")\n",
    "print(f\"Standard deviation of LSD: {std_lsd:.4f}\")"
   ]
  },
  {
   "cell_type": "markdown",
   "metadata": {},
   "source": [
    "## PESQ"
   ]
  },
  {
   "cell_type": "code",
   "execution_count": null,
   "metadata": {},
   "outputs": [],
   "source": [
    "from src.metrics.pesq_ import cal_pesq_wrapper\n",
    "from glob import glob\n",
    "import multiprocessing as mp"
   ]
  },
  {
   "cell_type": "code",
   "execution_count": null,
   "metadata": {},
   "outputs": [
    {
     "name": "stderr",
     "output_type": "stream",
     "text": [
      "100%|██████████| 125/125 [00:12<00:00, 10.11it/s]\n",
      "100%|██████████| 125/125 [00:13<00:00,  9.56it/s]\n",
      " 99%|█████████▉| 124/125 [00:12<00:00,  9.12it/s]"
     ]
    },
    {
     "name": "stdout",
     "output_type": "stream",
     "text": [
      "PESQ score: mean=3.2008, std=0.1796\n"
     ]
    },
    {
     "name": "stderr",
     "output_type": "stream",
     "text": [
      "100%|██████████| 125/125 [00:12<00:00,  9.75it/s]\n",
      "100%|██████████| 125/125 [00:13<00:00,  9.56it/s]\n"
     ]
    }
   ],
   "source": [
    "gen_files = glob(f\"{deg_dir}/*.wav\")\n",
    "\n",
    "# Разбиваем на партиции для многопоточности\n",
    "num_jobs = 4\n",
    "file_lists = np.array_split(gen_files, num_jobs)\n",
    "file_lists = [f_list.tolist() for f_list in file_lists]\n",
    "\n",
    "# Запуск в процессах\n",
    "with mp.Manager() as manager:\n",
    "    pesq_dict = manager.dict()\n",
    "    processes = []\n",
    "\n",
    "    for f in file_lists:\n",
    "        p = mp.Process(target=cal_pesq_wrapper, args=(ref_dict, f, sr, pesq_dict))\n",
    "        p.start()\n",
    "        processes.append(p)\n",
    "\n",
    "    for p in processes:\n",
    "        p.join()\n",
    "\n",
    "    # Обработка результатов\n",
    "    pesq_scores = list(pesq_dict.values())\n",
    "    mean_pesq = np.mean(pesq_scores)\n",
    "    std_pesq = np.std(pesq_scores)\n",
    "\n",
    "    print(f\"PESQ score: mean={mean_pesq:.4f}, std={std_pesq:.4f}\")"
   ]
  },
  {
   "cell_type": "markdown",
   "metadata": {},
   "source": [
    "## FO"
   ]
  },
  {
   "cell_type": "code",
   "execution_count": null,
   "metadata": {},
   "outputs": [
    {
     "name": "stdout",
     "output_type": "stream",
     "text": [
      "2025-05-18 21:01:30,400 (evaluate_f0:351) INFO: The number of utterances = 500\n",
      "2025-05-18 21:07:19,115 (evaluate_f0:388) INFO: Average - log_F0-RMSE: 0.1906 ± 0.0878\n",
      "2025-05-18 21:07:19,115 (evaluate_f0:393) INFO: Average - Semitone_ACC: 54.70%\n",
      "2025-05-18 21:07:19,115 (evaluate_f0:396) INFO: Average - VUV_ERROR: 11.67%\n",
      "2025-05-18 21:07:19,144 (evaluate_f0:422) INFO: Successfully finished F0 related evaluation.\n"
     ]
    }
   ],
   "source": [
    "!python /Users/liliyaivannikova/Documents/vkr/pytorch_project/research/istftnet/pretrained/Metrics/evaluate_f0.py\\\n",
    "                --raw_wavdir='/Users/liliyaivannikova/Documents/vkr/pytorch_project/audio_vocoder/data/wavs' \\\n",
    "                --gt_wavdir_or_wavscp='/Users/liliyaivannikova/Documents/vkr/pytorch_project/audio_vocoder/data/descr/test.txt' \\\n",
    "                --gen_wavdir_or_wavscp='/Users/liliyaivannikova/Documents/vkr/pytorch_project/research/istftnet/pretrained/pretrained/ISTftnet_v1'\\\n",
    "                --outdir='/Users/liliyaivannikova/Documents/vkr/pytorch_project/research/istftnet/pretrained/pretrained/ISTftnet_v1'\n"
   ]
  },
  {
   "cell_type": "code",
   "execution_count": null,
   "metadata": {},
   "outputs": [],
   "source": []
  },
  {
   "cell_type": "code",
   "execution_count": null,
   "metadata": {},
   "outputs": [],
   "source": []
  },
  {
   "cell_type": "markdown",
   "metadata": {},
   "source": [
    "# freev"
   ]
  },
  {
   "cell_type": "code",
   "execution_count": null,
   "metadata": {},
   "outputs": [
    {
     "name": "stdout",
     "output_type": "stream",
     "text": [
      "Using device: cpu\n",
      "Loading '/Users/liliyaivannikova/Documents/vkr/pytorch_project/research/istftnet/pretrained/pretrained/freev'\n",
      "Complete.\n"
     ]
    },
    {
     "name": "stderr",
     "output_type": "stream",
     "text": [
      "\n",
      "00%|██████████| 500/500 [00:43<00:00, 11.62it/s]"
     ]
    },
    {
     "name": "stdout",
     "output_type": "stream",
     "text": [
      "43.030747175216675\n",
      "3267.802267573696\n",
      "75.94109984350374\n"
     ]
    }
   ],
   "source": [
    "import os\n",
    "import argparse\n",
    "import json\n",
    "import torch\n",
    "import tqdm\n",
    "\n",
    "from pretrained.Models.freeV import FreeV\n",
    "from src.utils import utils\n",
    "\n",
    "def main():\n",
    "    \n",
    "    parser = argparse.ArgumentParser(description='Vocoder training configuration')\n",
    "    \n",
    "    cfg_filename = '/Users/liliyaivannikova/Documents/vkr/pytorch_project/research/istftnet/pretrained/cfgs/freev_config.json'  \n",
    "    \n",
    "    with open(cfg_filename, 'r') as f:\n",
    "        json_config = json.load(f)\n",
    "    \n",
    "    h = AttrDict(json_config)\n",
    "    \n",
    "    torch.manual_seed(h.seed)\n",
    "    device = torch.device('cuda' if torch.cuda.is_available() else 'cpu')\n",
    "    print(f\"Using device: {device}\")\n",
    "    \n",
    "    inference(h, FreeV)\n",
    "\n",
    "if __name__ == '__main__':\n",
    "    main()"
   ]
  },
  {
   "cell_type": "markdown",
   "metadata": {},
   "source": [
    "## метрики"
   ]
  },
  {
   "cell_type": "markdown",
   "metadata": {},
   "source": [
    "## lsd"
   ]
  },
  {
   "cell_type": "code",
   "execution_count": null,
   "metadata": {},
   "outputs": [],
   "source": [
    "from src.metrics.lsd import las_rmse, cal_lsd_wrapper"
   ]
  },
  {
   "cell_type": "code",
   "execution_count": null,
   "metadata": {},
   "outputs": [],
   "source": [
    "ref_dir = \"/Users/liliyaivannikova/Documents/vkr/pytorch_project/audio_vocoder/data/wavs\"\n",
    "deg_dir = \"/Users/liliyaivannikova/Documents/vkr/pytorch_project/research/istftnet/pretrained/pretrained/freev_v1\"\n",
    "sr = 22050  "
   ]
  },
  {
   "cell_type": "code",
   "execution_count": null,
   "metadata": {},
   "outputs": [
    {
     "name": "stderr",
     "output_type": "stream",
     "text": [
      "100%|██████████| 500/500 [00:05<00:00, 97.15it/s] "
     ]
    },
    {
     "name": "stdout",
     "output_type": "stream",
     "text": [
      "Mean LSD score: 0.8764\n",
      "Standard deviation of LSD: 0.0206\n"
     ]
    },
    {
     "name": "stderr",
     "output_type": "stream",
     "text": [
      "\n"
     ]
    }
   ],
   "source": [
    "def build_ref_dict(ref_dir):\n",
    "    ref_full_path_dict = {}\n",
    "    for root, _, files in os.walk(ref_dir):\n",
    "        for filename in files:\n",
    "            if filename.endswith(\".wav\"):\n",
    "                ref_full_path_dict[filename] = root\n",
    "    return ref_full_path_dict\n",
    "\n",
    "ref_dict = build_ref_dict(ref_dir)\n",
    "\n",
    "mean_lsd, std_lsd = cal_lsd_wrapper(ref_dict, deg_dir, sr=sr)\n",
    "print(f\"Mean LSD score: {mean_lsd:.4f}\")\n",
    "print(f\"Standard deviation of LSD: {std_lsd:.4f}\")"
   ]
  },
  {
   "cell_type": "markdown",
   "metadata": {},
   "source": [
    "## PESQ"
   ]
  },
  {
   "cell_type": "code",
   "execution_count": null,
   "metadata": {},
   "outputs": [],
   "source": [
    "from src.metrics.pesq_ import cal_pesq_wrapper\n",
    "from glob import glob\n",
    "import multiprocessing as mp"
   ]
  },
  {
   "cell_type": "code",
   "execution_count": null,
   "metadata": {},
   "outputs": [
    {
     "name": "stderr",
     "output_type": "stream",
     "text": [
      "100%|██████████| 125/125 [00:14<00:00,  8.61it/s]\n",
      "100%|██████████| 125/125 [00:14<00:00,  8.41it/s]\n",
      " 98%|█████████▊| 123/125 [00:15<00:00,  9.33it/s]"
     ]
    },
    {
     "name": "stdout",
     "output_type": "stream",
     "text": [
      "PESQ score: mean=3.1185, std=0.1880\n"
     ]
    },
    {
     "name": "stderr",
     "output_type": "stream",
     "text": [
      "100%|██████████| 125/125 [00:15<00:00,  8.15it/s]\n",
      "100%|██████████| 125/125 [00:15<00:00,  8.26it/s]\n"
     ]
    }
   ],
   "source": [
    "gen_files = glob(f\"{deg_dir}/*.wav\")\n",
    "\n",
    "# Разбиваем на партиции для многопоточности\n",
    "num_jobs = 4\n",
    "file_lists = np.array_split(gen_files, num_jobs)\n",
    "file_lists = [f_list.tolist() for f_list in file_lists]\n",
    "\n",
    "# Запуск в процессах\n",
    "with mp.Manager() as manager:\n",
    "    pesq_dict = manager.dict()\n",
    "    processes = []\n",
    "\n",
    "    for f in file_lists:\n",
    "        p = mp.Process(target=cal_pesq_wrapper, args=(ref_dict, f, sr, pesq_dict))\n",
    "        p.start()\n",
    "        processes.append(p)\n",
    "\n",
    "    for p in processes:\n",
    "        p.join()\n",
    "\n",
    "    # Обработка результатов\n",
    "    pesq_scores = list(pesq_dict.values())\n",
    "    mean_pesq = np.mean(pesq_scores)\n",
    "    std_pesq = np.std(pesq_scores)\n",
    "\n",
    "    print(f\"PESQ score: mean={mean_pesq:.4f}, std={std_pesq:.4f}\")"
   ]
  },
  {
   "cell_type": "markdown",
   "metadata": {},
   "source": [
    "## FO"
   ]
  },
  {
   "cell_type": "code",
   "execution_count": null,
   "metadata": {},
   "outputs": [
    {
     "name": "stdout",
     "output_type": "stream",
     "text": [
      "2025-05-18 21:10:27,511 (evaluate_f0:351) INFO: The number of utterances = 500\n",
      "2025-05-18 21:16:16,132 (evaluate_f0:388) INFO: Average - log_F0-RMSE: 0.2077 ± 0.0912\n",
      "2025-05-18 21:16:16,132 (evaluate_f0:393) INFO: Average - Semitone_ACC: 62.63%\n",
      "2025-05-18 21:16:16,132 (evaluate_f0:396) INFO: Average - VUV_ERROR: 11.59%\n",
      "2025-05-18 21:16:16,162 (evaluate_f0:422) INFO: Successfully finished F0 related evaluation.\n"
     ]
    }
   ],
   "source": [
    "!python /Users/liliyaivannikova/Documents/vkr/pytorch_project/research/istftnet/pretrained/Metrics/evaluate_f0.py\\\n",
    "                --raw_wavdir='/Users/liliyaivannikova/Documents/vkr/pytorch_project/audio_vocoder/data/wavs' \\\n",
    "                --gt_wavdir_or_wavscp='/Users/liliyaivannikova/Documents/vkr/pytorch_project/audio_vocoder/data/descr/test.txt' \\\n",
    "                --gen_wavdir_or_wavscp='/Users/liliyaivannikova/Documents/vkr/pytorch_project/research/istftnet/pretrained/pretrained/freev_v1'\\\n",
    "                --outdir='/Users/liliyaivannikova/Documents/vkr/pytorch_project/research/istftnet/pretrained/pretrained/freev_v1'\n"
   ]
  },
  {
   "cell_type": "code",
   "execution_count": null,
   "metadata": {},
   "outputs": [],
   "source": []
  },
  {
   "cell_type": "code",
   "execution_count": null,
   "metadata": {},
   "outputs": [],
   "source": []
  },
  {
   "cell_type": "markdown",
   "metadata": {},
   "source": [
    "# baseline"
   ]
  },
  {
   "cell_type": "code",
   "execution_count": null,
   "metadata": {},
   "outputs": [
    {
     "name": "stdout",
     "output_type": "stream",
     "text": [
      "Initializing Training Process...\n",
      "Using device: cpu\n",
      "Loading '/Users/liliyaivannikova/Documents/vkr/pytorch_project/audio_vocoder/cp_model_v2/g_00050000'\n",
      "Complete.\n",
      "Removing weight norm...\n"
     ]
    },
    {
     "name": "stderr",
     "output_type": "stream",
     "text": [
      "100%|██████████| 500/500 [06:26<00:00,  1.29it/s]"
     ]
    },
    {
     "name": "stdout",
     "output_type": "stream",
     "text": [
      "386.97406005859375\n",
      "3273.6072562358277\n",
      "8.459500504349448\n"
     ]
    },
    {
     "name": "stderr",
     "output_type": "stream",
     "text": [
      "\n"
     ]
    }
   ],
   "source": [
    "import os\n",
    "import argparse\n",
    "import json\n",
    "import torch\n",
    "import tqdm\n",
    "\n",
    "from src.model.model_fin import Generator\n",
    "from src.utils import utils\n",
    "\n",
    "def main():\n",
    "    \n",
    "    parser = argparse.ArgumentParser(description='Vocoder training configuration')\n",
    "    \n",
    "    cfg_filename = '/Users/liliyaivannikova/Documents/vkr/pytorch_project/audio_vocoder/src/configs/model_fin.json'  \n",
    "    \n",
    "    with open(cfg_filename, 'r') as f:\n",
    "        json_config = json.load(f)\n",
    "    \n",
    "    h = AttrDict(json_config)\n",
    "    \n",
    "    torch.manual_seed(h.seed)\n",
    "    device = torch.device('cuda' if torch.cuda.is_available() else 'cpu')\n",
    "    print(f\"Using device: {device}\")\n",
    "    \n",
    "    inference(h, Generator)\n",
    "\n",
    "if __name__ == '__main__':\n",
    "    main()"
   ]
  },
  {
   "cell_type": "markdown",
   "metadata": {},
   "source": [
    "## метрики"
   ]
  },
  {
   "cell_type": "markdown",
   "metadata": {},
   "source": [
    "## lsd"
   ]
  },
  {
   "cell_type": "code",
   "execution_count": null,
   "metadata": {},
   "outputs": [],
   "source": [
    "from src.metrics.lsd import las_rmse, cal_lsd_wrapper"
   ]
  },
  {
   "cell_type": "code",
   "execution_count": null,
   "metadata": {},
   "outputs": [],
   "source": [
    "ref_dir = \"/Users/liliyaivannikova/Documents/vkr/pytorch_project/audio_vocoder/data/wavs\"\n",
    "deg_dir = \"/Users/liliyaivannikova/Documents/vkr/pytorch_project/audio_vocoder/output_fin\"\n",
    "sr = 22050  "
   ]
  },
  {
   "cell_type": "code",
   "execution_count": null,
   "metadata": {},
   "outputs": [
    {
     "name": "stderr",
     "output_type": "stream",
     "text": [
      "100%|██████████| 500/500 [00:04<00:00, 108.77it/s]"
     ]
    },
    {
     "name": "stdout",
     "output_type": "stream",
     "text": [
      "Mean LSD score: 0.9900\n",
      "Standard deviation of LSD: 0.0247\n"
     ]
    },
    {
     "name": "stderr",
     "output_type": "stream",
     "text": [
      "\n"
     ]
    }
   ],
   "source": [
    "def build_ref_dict(ref_dir):\n",
    "    ref_full_path_dict = {}\n",
    "    for root, _, files in os.walk(ref_dir):\n",
    "        for filename in files:\n",
    "            if filename.endswith(\".wav\"):\n",
    "                ref_full_path_dict[filename] = root\n",
    "    return ref_full_path_dict\n",
    "\n",
    "ref_dict = build_ref_dict(ref_dir)\n",
    "\n",
    "mean_lsd, std_lsd = cal_lsd_wrapper(ref_dict, deg_dir, sr=sr)\n",
    "print(f\"Mean LSD score: {mean_lsd:.4f}\")\n",
    "print(f\"Standard deviation of LSD: {std_lsd:.4f}\")"
   ]
  },
  {
   "cell_type": "markdown",
   "metadata": {},
   "source": [
    "## PESQ"
   ]
  },
  {
   "cell_type": "code",
   "execution_count": null,
   "metadata": {},
   "outputs": [],
   "source": [
    "from src.metrics.pesq_ import cal_pesq_wrapper\n",
    "from glob import glob\n",
    "import multiprocessing as mp"
   ]
  },
  {
   "cell_type": "code",
   "execution_count": null,
   "metadata": {},
   "outputs": [
    {
     "name": "stderr",
     "output_type": "stream",
     "text": [
      "100%|██████████| 125/125 [00:13<00:00,  9.45it/s]\n",
      "100%|██████████| 125/125 [00:13<00:00,  9.16it/s]\n",
      "100%|██████████| 125/125 [00:13<00:00,  9.30it/s]\n"
     ]
    },
    {
     "name": "stdout",
     "output_type": "stream",
     "text": [
      "PESQ score: mean=3.2313, std=0.1825\n"
     ]
    },
    {
     "name": "stderr",
     "output_type": "stream",
     "text": [
      "100%|██████████| 125/125 [00:13<00:00,  8.96it/s]\n"
     ]
    }
   ],
   "source": [
    "gen_files = glob(f\"{deg_dir}/*.wav\")\n",
    "\n",
    "# Разбиваем на партиции для многопоточности\n",
    "num_jobs = 4\n",
    "file_lists = np.array_split(gen_files, num_jobs)\n",
    "file_lists = [f_list.tolist() for f_list in file_lists]\n",
    "\n",
    "# Запуск в процессах\n",
    "with mp.Manager() as manager:\n",
    "    pesq_dict = manager.dict()\n",
    "    processes = []\n",
    "\n",
    "    for f in file_lists:\n",
    "        p = mp.Process(target=cal_pesq_wrapper, args=(ref_dict, f, sr, pesq_dict))\n",
    "        p.start()\n",
    "        processes.append(p)\n",
    "\n",
    "    for p in processes:\n",
    "        p.join()\n",
    "\n",
    "    # Обработка результатов\n",
    "    pesq_scores = list(pesq_dict.values())\n",
    "    mean_pesq = np.mean(pesq_scores)\n",
    "    std_pesq = np.std(pesq_scores)\n",
    "\n",
    "    print(f\"PESQ score: mean={mean_pesq:.4f}, std={std_pesq:.4f}\")"
   ]
  },
  {
   "cell_type": "markdown",
   "metadata": {},
   "source": [
    "## FO"
   ]
  },
  {
   "cell_type": "code",
   "execution_count": null,
   "metadata": {},
   "outputs": [
    {
     "name": "stdout",
     "output_type": "stream",
     "text": [
      "2025-05-18 21:49:18,562 (evaluate_f0:351) INFO: The number of utterances = 500\n",
      "2025-05-18 21:54:41,599 (evaluate_f0:388) INFO: Average - log_F0-RMSE: 0.2087 ± 0.0887\n",
      "2025-05-18 21:54:41,600 (evaluate_f0:393) INFO: Average - Semitone_ACC: 57.43%\n",
      "2025-05-18 21:54:41,600 (evaluate_f0:396) INFO: Average - VUV_ERROR: 12.44%\n",
      "2025-05-18 21:54:41,633 (evaluate_f0:422) INFO: Successfully finished F0 related evaluation.\n"
     ]
    }
   ],
   "source": [
    "!python /Users/liliyaivannikova/Documents/vkr/pytorch_project/research/istftnet/pretrained/Metrics/evaluate_f0.py\\\n",
    "                --raw_wavdir='/Users/liliyaivannikova/Documents/vkr/pytorch_project/audio_vocoder/data/wavs' \\\n",
    "                --gt_wavdir_or_wavscp='/Users/liliyaivannikova/Documents/vkr/pytorch_project/audio_vocoder/data/descr/test.txt' \\\n",
    "                --gen_wavdir_or_wavscp=\"/Users/liliyaivannikova/Documents/vkr/pytorch_project/audio_vocoder/output_fin\"\\\n",
    "                --outdir=\"/Users/liliyaivannikova/Documents/vkr/pytorch_project/audio_vocoder/output_fin\"\n"
   ]
  },
  {
   "cell_type": "code",
   "execution_count": null,
   "metadata": {},
   "outputs": [],
   "source": []
  },
  {
   "cell_type": "code",
   "execution_count": null,
   "metadata": {},
   "outputs": [],
   "source": []
  },
  {
   "cell_type": "markdown",
   "metadata": {},
   "source": [
    "# hifigan v2"
   ]
  },
  {
   "cell_type": "code",
   "execution_count": null,
   "metadata": {},
   "outputs": [
    {
     "name": "stdout",
     "output_type": "stream",
     "text": [
      "Using device: cpu\n",
      "Loading '/Users/liliyaivannikova/Documents/vkr/pytorch_project/research/istftnet/pretrained/pretrained/generator_v2'\n",
      "Complete.\n",
      "Removing weight norm...\n"
     ]
    },
    {
     "name": "stderr",
     "output_type": "stream",
     "text": [
      "100%|██████████| 500/500 [02:59<00:00,  2.79it/s]"
     ]
    },
    {
     "name": "stdout",
     "output_type": "stream",
     "text": [
      "179.1493899822235\n",
      "3273.6072562358277\n",
      "18.273058348458\n"
     ]
    },
    {
     "name": "stderr",
     "output_type": "stream",
     "text": [
      "\n"
     ]
    }
   ],
   "source": [
    "import os\n",
    "import argparse\n",
    "import json\n",
    "import torch\n",
    "import tqdm\n",
    "\n",
    "from pretrained.Models.hifigan import HiFiGAN\n",
    "from src.utils import utils\n",
    "\n",
    "def main():\n",
    "    \n",
    "    parser = argparse.ArgumentParser(description='Vocoder training configuration')\n",
    "    \n",
    "    cfg_filename = '/Users/liliyaivannikova/Documents/vkr/pytorch_project/research/istftnet/pretrained/cfgs/config.json'  \n",
    "    \n",
    "    with open(cfg_filename, 'r') as f:\n",
    "        json_config = json.load(f)\n",
    "    \n",
    "    h = AttrDict(json_config)\n",
    "    \n",
    "    torch.manual_seed(h.seed)\n",
    "    device = torch.device('cuda' if torch.cuda.is_available() else 'cpu')\n",
    "    print(f\"Using device: {device}\")\n",
    "    \n",
    "    inference(h, HiFiGAN)\n",
    "\n",
    "if __name__ == '__main__':\n",
    "    main()"
   ]
  },
  {
   "cell_type": "markdown",
   "metadata": {},
   "source": [
    "## метрики"
   ]
  },
  {
   "cell_type": "markdown",
   "metadata": {},
   "source": [
    "## lsd"
   ]
  },
  {
   "cell_type": "code",
   "execution_count": null,
   "metadata": {},
   "outputs": [],
   "source": [
    "from src.metrics.lsd import las_rmse, cal_lsd_wrapper"
   ]
  },
  {
   "cell_type": "code",
   "execution_count": null,
   "metadata": {},
   "outputs": [],
   "source": [
    "ref_dir = \"/Users/liliyaivannikova/Documents/vkr/pytorch_project/audio_vocoder/data/wavs\"\n",
    "deg_dir = \"/Users/liliyaivannikova/Documents/vkr/pytorch_project/research/istftnet/pretrained/pretrained/hifigan_v2\"\n",
    "sr = 22050  "
   ]
  },
  {
   "cell_type": "code",
   "execution_count": null,
   "metadata": {},
   "outputs": [
    {
     "name": "stderr",
     "output_type": "stream",
     "text": [
      "100%|██████████| 500/500 [00:05<00:00, 87.12it/s]"
     ]
    },
    {
     "name": "stdout",
     "output_type": "stream",
     "text": [
      "Mean LSD score: 1.1007\n",
      "Standard deviation of LSD: 0.0242\n"
     ]
    },
    {
     "name": "stderr",
     "output_type": "stream",
     "text": [
      "\n"
     ]
    }
   ],
   "source": [
    "def build_ref_dict(ref_dir):\n",
    "    ref_full_path_dict = {}\n",
    "    for root, _, files in os.walk(ref_dir):\n",
    "        for filename in files:\n",
    "            if filename.endswith(\".wav\"):\n",
    "                ref_full_path_dict[filename] = root\n",
    "    return ref_full_path_dict\n",
    "\n",
    "ref_dict = build_ref_dict(ref_dir)\n",
    "\n",
    "mean_lsd, std_lsd = cal_lsd_wrapper(ref_dict, deg_dir, sr=sr)\n",
    "print(f\"Mean LSD score: {mean_lsd:.4f}\")\n",
    "print(f\"Standard deviation of LSD: {std_lsd:.4f}\")"
   ]
  },
  {
   "cell_type": "markdown",
   "metadata": {},
   "source": [
    "## PESQ"
   ]
  },
  {
   "cell_type": "code",
   "execution_count": null,
   "metadata": {},
   "outputs": [],
   "source": [
    "from src.metrics.pesq_ import cal_pesq_wrapper\n",
    "from glob import glob\n",
    "import multiprocessing as mp"
   ]
  },
  {
   "cell_type": "code",
   "execution_count": null,
   "metadata": {},
   "outputs": [
    {
     "name": "stderr",
     "output_type": "stream",
     "text": [
      "100%|██████████| 125/125 [00:16<00:00,  7.55it/s]\n",
      "100%|██████████| 125/125 [00:16<00:00,  7.60it/s]\n",
      " 99%|█████████▉| 124/125 [00:16<00:00,  9.56it/s]"
     ]
    },
    {
     "name": "stdout",
     "output_type": "stream",
     "text": [
      "PESQ score: mean=2.6913, std=0.1795\n"
     ]
    },
    {
     "name": "stderr",
     "output_type": "stream",
     "text": [
      "100%|██████████| 125/125 [00:16<00:00,  7.73it/s]\n",
      "100%|██████████| 125/125 [00:16<00:00,  7.61it/s]\n"
     ]
    }
   ],
   "source": [
    "gen_files = glob(f\"{deg_dir}/*.wav\")\n",
    "\n",
    "# Разбиваем на партиции для многопоточности\n",
    "num_jobs = 4\n",
    "file_lists = np.array_split(gen_files, num_jobs)\n",
    "file_lists = [f_list.tolist() for f_list in file_lists]\n",
    "\n",
    "# Запуск в процессах\n",
    "with mp.Manager() as manager:\n",
    "    pesq_dict = manager.dict()\n",
    "    processes = []\n",
    "\n",
    "    for f in file_lists:\n",
    "        p = mp.Process(target=cal_pesq_wrapper, args=(ref_dict, f, sr, pesq_dict))\n",
    "        p.start()\n",
    "        processes.append(p)\n",
    "\n",
    "    for p in processes:\n",
    "        p.join()\n",
    "\n",
    "    # Обработка результатов\n",
    "    pesq_scores = list(pesq_dict.values())\n",
    "    mean_pesq = np.mean(pesq_scores)\n",
    "    std_pesq = np.std(pesq_scores)\n",
    "\n",
    "    print(f\"PESQ score: mean={mean_pesq:.4f}, std={std_pesq:.4f}\")"
   ]
  },
  {
   "cell_type": "markdown",
   "metadata": {},
   "source": [
    "## FO"
   ]
  },
  {
   "cell_type": "code",
   "execution_count": null,
   "metadata": {},
   "outputs": [
    {
     "name": "stdout",
     "output_type": "stream",
     "text": [
      "2025-05-18 22:14:44,039 (evaluate_f0:351) INFO: The number of utterances = 500\n",
      "2025-05-18 22:20:07,968 (evaluate_f0:388) INFO: Average - log_F0-RMSE: 0.1911 ± 0.0889\n",
      "2025-05-18 22:20:07,968 (evaluate_f0:393) INFO: Average - Semitone_ACC: 53.21%\n",
      "2025-05-18 22:20:07,968 (evaluate_f0:396) INFO: Average - VUV_ERROR: 12.12%\n",
      "2025-05-18 22:20:07,997 (evaluate_f0:422) INFO: Successfully finished F0 related evaluation.\n"
     ]
    }
   ],
   "source": [
    "!python /Users/liliyaivannikova/Documents/vkr/pytorch_project/research/istftnet/pretrained/Metrics/evaluate_f0.py\\\n",
    "                --raw_wavdir='/Users/liliyaivannikova/Documents/vkr/pytorch_project/audio_vocoder/data/wavs' \\\n",
    "                --gt_wavdir_or_wavscp='/Users/liliyaivannikova/Documents/vkr/pytorch_project/audio_vocoder/data/descr/test.txt' \\\n",
    "                --gen_wavdir_or_wavscp='/Users/liliyaivannikova/Documents/vkr/pytorch_project/research/istftnet/pretrained/pretrained/hifigan_v2'\\\n",
    "                --outdir='/Users/liliyaivannikova/Documents/vkr/pytorch_project/research/istftnet/pretrained/pretrained/hifigan_v2'\n"
   ]
  },
  {
   "cell_type": "markdown",
   "metadata": {},
   "source": [
    "# vocos"
   ]
  },
  {
   "cell_type": "code",
   "execution_count": null,
   "metadata": {},
   "outputs": [],
   "source": [
    "sys.path.append('/Users/liliyaivannikova/Documents/vkr/pytorch_project/vocos/')"
   ]
  },
  {
   "cell_type": "code",
   "execution_count": null,
   "metadata": {},
   "outputs": [],
   "source": [
    "from vocos.pretrained import Vocos\n",
    "\n",
    "def instantiate_class(args, init):\n",
    "    kwargs = init.get(\"init_args\", {})\n",
    "    if not isinstance(args, tuple):\n",
    "        args = (args,)\n",
    "    class_module, class_name = init[\"class_path\"].rsplit(\".\", 1)\n",
    "    module = __import__(class_module, fromlist=[class_name])\n",
    "    args_class = getattr(module, class_name)\n",
    "    return args_class(*args, **kwargs)\n",
    "\n",
    "def from_hparams(config_path: str):\n",
    "        \"\"\"\n",
    "        Class method to create a new Vocos model instance from hyperparameters stored in a yaml configuration file.\n",
    "        \"\"\"\n",
    "        with open(config_path, \"r\") as f:\n",
    "            config = yaml.safe_load(f)\n",
    "\n",
    "        feature_extractor = instantiate_class(args=(), init=config[\"feature_extractor\"])\n",
    "        backbone = instantiate_class(args=(), init=config[\"backbone\"])\n",
    "        head = instantiate_class(args=(), init=config[\"head\"])\n",
    "        \n",
    "        model = Vocos(feature_extractor,\n",
    "                         backbone,\n",
    "                         head\n",
    "                         )\n",
    "        return model\n",
    "\n",
    "def from_pretrained():\n",
    "        \n",
    "        config_path = '/Users/liliyaivannikova/Documents/vkr/pytorch_project/vocos/configs/vocos.yaml'\n",
    "        model_path = '/Users/liliyaivannikova/Documents/vkr/pytorch_project/vocos/vocos.ckpt'\n",
    "        model = from_hparams(config_path)\n",
    "        state_dict = torch.load(model_path, map_location=\"cpu\")\n",
    "    \n",
    "        model.eval()\n",
    "        return model"
   ]
  },
  {
   "cell_type": "code",
   "execution_count": null,
   "metadata": {},
   "outputs": [],
   "source": [
    "import torchaudio"
   ]
  },
  {
   "cell_type": "code",
   "execution_count": null,
   "metadata": {},
   "outputs": [],
   "source": [
    "def inference_vocos(h):\n",
    " \n",
    "    generator = from_pretrained()\n",
    "\n",
    "    post_str = os.path.splitext(h.test_input_wavs_dir)[-1]\n",
    "    if post_str in ['.txt', '.scp']:\n",
    "        filelist = []\n",
    "        lines = open(h.test_input_wavs_dir, 'r').readlines()\n",
    "        for l in lines:\n",
    "            cur_filename = l.strip().split('/')[1].split('|')[0]\n",
    "            filelist.append(os.path.join(h.raw_wavfile_path, cur_filename))\n",
    "    else:  # dir\n",
    "        filelist = sorted(os.listdir(h.test_input_mels_dir if h.test_mel_load else h.test_input_wavs_dir))\n",
    "\n",
    "    os.makedirs(h.test_output_dir, exist_ok=True)\n",
    "\n",
    "    generator.eval()\n",
    "    try:\n",
    "        generator.remove_weight_norm()\n",
    "    except:\n",
    "        pass\n",
    "    l = 0\n",
    "    with torch.no_grad():\n",
    "        starttime = time.time()\n",
    "        for filename in tqdm.tqdm(filelist):\n",
    "            # if h.test_mel_load:\n",
    "            if h.test_mel_load:\n",
    "                mel = np.load(os.path.join(h.test_input_wavs_dir, filename))\n",
    "                x = torch.FloatTensor(mel).to(device)\n",
    "                x = x.transpose(1,2)\n",
    "            else:\n",
    "                if post_str in ['.txt', '.scp']:\n",
    "                    raw_wav, orig_sr = sf.read(filename)\n",
    "                else:\n",
    "                    raw_wav, orig_sr = sf.read(os.path.join(h.test_input_wavs_dir, filename))\n",
    "                if orig_sr != h.sampling_rate:\n",
    "                    raw_wav = lib.core.resample(raw_wav, orig_sr=orig_sr, target_sr=h.sampling_rate)\n",
    "\n",
    "                raw_wav = torch.FloatTensor(raw_wav)\n",
    "                mel_spec = torchaudio.transforms.MelSpectrogram(\n",
    "                                                                        sample_rate=22050,\n",
    "                                                                        n_fft=1024,\n",
    "                                                                        hop_length=256,\n",
    "                                                                        n_mels=100,\n",
    "                                                                        center= \"center\",\n",
    "                                                                        power=1,\n",
    "                                                                    )\n",
    "                \n",
    "                x = mel_spec(raw_wav.unsqueeze(0))\n",
    "                x = torch.log(torch.clip(x, min=1e-7))\n",
    "                \n",
    "            # y_g_list = vocos.decode(x)\n",
    "            y_g_list = vocos(raw_wav.unsqueeze(0))\n",
    "            if isinstance(y_g_list, torch.Tensor): \n",
    "                y_g = y_g_list\n",
    "            else:\n",
    "                y_g = y_g_list[-1]  \n",
    "            audio = y_g.squeeze()\n",
    "            audio = audio.cpu().numpy()\n",
    "            audiolen=len(audio)\n",
    "            if post_str in ['.txt', '.scp']:\n",
    "                sf.write(os.path.join(h.test_output_dir, filename.split('/')[-1]), audio, h.sampling_rate, 'PCM_16')\n",
    "            else:\n",
    "                sf.write(os.path.join(h.test_output_dir, filename.split('.')[0] + '.wav'), audio, h.sampling_rate, 'PCM_16')\n",
    "\n",
    "            # print(pp)\n",
    "            l += audiolen\n",
    "        end=time.time()\n",
    "        print(end-starttime)\n",
    "        print(l/22050)\n",
    "        print(l/22050/(end-starttime)) "
   ]
  },
  {
   "cell_type": "code",
   "execution_count": null,
   "metadata": {},
   "outputs": [
    {
     "name": "stdout",
     "output_type": "stream",
     "text": [
      "Using device: cpu\n"
     ]
    },
    {
     "name": "stderr",
     "output_type": "stream",
     "text": [
      "100%|██████████| 500/500 [00:32<00:00, 15.25it/s]"
     ]
    },
    {
     "name": "stdout",
     "output_type": "stream",
     "text": [
      "32.79685688018799\n",
      "3267.802267573696\n",
      "99.63766587485762\n"
     ]
    },
    {
     "name": "stderr",
     "output_type": "stream",
     "text": [
      "\n"
     ]
    }
   ],
   "source": [
    "import os\n",
    "import argparse\n",
    "import json\n",
    "import torch\n",
    "import tqdm\n",
    "\n",
    "from src.utils import utils\n",
    "\n",
    "def main():\n",
    "    \n",
    "    parser = argparse.ArgumentParser(description='Vocoder training configuration')\n",
    "    \n",
    "    cfg_filename = '/Users/liliyaivannikova/Documents/vkr/pytorch_project/vocos/configs/vocos_inf.json'  \n",
    "    \n",
    "    with open(cfg_filename, 'r') as f:\n",
    "        json_config = json.load(f)\n",
    "    \n",
    "    h = AttrDict(json_config)\n",
    "    \n",
    "    torch.manual_seed(h.seed_everything)\n",
    "    device = torch.device('cuda' if torch.cuda.is_available() else 'cpu')\n",
    "    print(f\"Using device: {device}\")\n",
    "    \n",
    "    inference_vocos(h)\n",
    "\n",
    "if __name__ == '__main__':\n",
    "    main()"
   ]
  },
  {
   "cell_type": "code",
   "execution_count": null,
   "metadata": {},
   "outputs": [],
   "source": []
  },
  {
   "cell_type": "markdown",
   "metadata": {},
   "source": [
    "## метрики"
   ]
  },
  {
   "cell_type": "markdown",
   "metadata": {},
   "source": [
    "## lsd"
   ]
  },
  {
   "cell_type": "code",
   "execution_count": null,
   "metadata": {},
   "outputs": [],
   "source": [
    "from src.metrics.lsd import las_rmse, cal_lsd_wrapper"
   ]
  },
  {
   "cell_type": "code",
   "execution_count": null,
   "metadata": {},
   "outputs": [],
   "source": [
    "ref_dir = \"/Users/liliyaivannikova/Documents/vkr/pytorch_project/audio_vocoder/data/wavs\"\n",
    "deg_dir = \"/Users/liliyaivannikova/Documents/vkr/pytorch_project/research/istftnet/pretrained/pretrained/vocos\"\n",
    "sr = 22050"
   ]
  },
  {
   "cell_type": "code",
   "execution_count": null,
   "metadata": {},
   "outputs": [
    {
     "name": "stderr",
     "output_type": "stream",
     "text": [
      "100%|██████████| 500/500 [00:05<00:00, 95.65it/s] "
     ]
    },
    {
     "name": "stdout",
     "output_type": "stream",
     "text": [
      "Mean LSD score: 1.2106\n",
      "Standard deviation of LSD: 0.0816\n"
     ]
    },
    {
     "name": "stderr",
     "output_type": "stream",
     "text": [
      "\n"
     ]
    }
   ],
   "source": [
    "def build_ref_dict(ref_dir):\n",
    "    ref_full_path_dict = {}\n",
    "    for root, _, files in os.walk(ref_dir):\n",
    "        for filename in files:\n",
    "            if filename.endswith(\".wav\"):\n",
    "                ref_full_path_dict[filename] = root\n",
    "    return ref_full_path_dict\n",
    "\n",
    "ref_dict = build_ref_dict(ref_dir)\n",
    "\n",
    "mean_lsd, std_lsd = cal_lsd_wrapper(ref_dict, deg_dir, sr=sr)\n",
    "\n",
    "\n",
    "print(f\"Mean LSD score: {mean_lsd:.4f}\")\n",
    "print(f\"Standard deviation of LSD: {std_lsd:.4f}\")"
   ]
  },
  {
   "cell_type": "markdown",
   "metadata": {},
   "source": [
    "## PESQ"
   ]
  },
  {
   "cell_type": "code",
   "execution_count": null,
   "metadata": {},
   "outputs": [],
   "source": [
    "from src.metrics.pesq_ import cal_pesq_wrapper\n",
    "from glob import glob\n",
    "import multiprocessing as mp"
   ]
  },
  {
   "cell_type": "code",
   "execution_count": null,
   "metadata": {},
   "outputs": [
    {
     "name": "stderr",
     "output_type": "stream",
     "text": [
      "100%|██████████| 125/125 [00:14<00:00,  8.50it/s]\n",
      "100%|██████████| 125/125 [00:14<00:00,  8.37it/s]\n",
      "100%|██████████| 125/125 [00:14<00:00,  8.47it/s]\n",
      "100%|██████████| 125/125 [00:15<00:00,  8.29it/s]\n"
     ]
    },
    {
     "name": "stdout",
     "output_type": "stream",
     "text": [
      "PESQ score: mean=3.4970, std=0.1646\n"
     ]
    }
   ],
   "source": [
    "gen_files = glob(f\"{deg_dir}/*.wav\")\n",
    "\n",
    "# Разбиваем на партиции для многопоточности\n",
    "num_jobs = 4\n",
    "file_lists = np.array_split(gen_files, num_jobs)\n",
    "file_lists = [f_list.tolist() for f_list in file_lists]\n",
    "\n",
    "# Запуск в процессах\n",
    "with mp.Manager() as manager:\n",
    "    pesq_dict = manager.dict()\n",
    "    processes = []\n",
    "\n",
    "    for f in file_lists:\n",
    "        p = mp.Process(target=cal_pesq_wrapper, args=(ref_dict, f, sr, pesq_dict))\n",
    "        p.start()\n",
    "        processes.append(p)\n",
    "\n",
    "    for p in processes:\n",
    "        p.join()\n",
    "\n",
    "    # Обработка результатов\n",
    "    pesq_scores = list(pesq_dict.values())\n",
    "    mean_pesq = np.mean(pesq_scores)\n",
    "    std_pesq = np.std(pesq_scores)\n",
    "\n",
    "    print(f\"PESQ score: mean={mean_pesq:.4f}, std={std_pesq:.4f}\")"
   ]
  },
  {
   "cell_type": "markdown",
   "metadata": {},
   "source": [
    "## FO"
   ]
  },
  {
   "cell_type": "code",
   "execution_count": null,
   "metadata": {},
   "outputs": [
    {
     "name": "stdout",
     "output_type": "stream",
     "text": [
      "2025-05-20 23:13:30,430 (evaluate_f0:351) INFO: The number of utterances = 500\n",
      "2025-05-20 23:18:58,670 (evaluate_f0:388) INFO: Average - log_F0-RMSE: 0.1820 ± 0.0845\n",
      "2025-05-20 23:18:58,670 (evaluate_f0:393) INFO: Average - Semitone_ACC: 63.87%\n",
      "2025-05-20 23:18:58,670 (evaluate_f0:396) INFO: Average - VUV_ERROR: 11.55%\n",
      "2025-05-20 23:18:58,700 (evaluate_f0:422) INFO: Successfully finished F0 related evaluation.\n"
     ]
    }
   ],
   "source": [
    "!python /Users/liliyaivannikova/Documents/vkr/pytorch_project/research/istftnet/pretrained/Metrics/evaluate_f0.py\\\n",
    "                --raw_wavdir='/Users/liliyaivannikova/Documents/vkr/pytorch_project/audio_vocoder/data/wavs' \\\n",
    "                --gt_wavdir_or_wavscp='/Users/liliyaivannikova/Documents/vkr/pytorch_project/audio_vocoder/data/descr/test.txt' \\\n",
    "                --gen_wavdir_or_wavscp='/Users/liliyaivannikova/Documents/vkr/pytorch_project/research/istftnet/pretrained/pretrained/vocos'\\\n",
    "                --outdir='/Users/liliyaivannikova/Documents/vkr/pytorch_project/research/istftnet/pretrained/pretrained/vocos'\n"
   ]
  },
  {
   "cell_type": "code",
   "execution_count": null,
   "metadata": {},
   "outputs": [],
   "source": []
  },
  {
   "cell_type": "code",
   "execution_count": null,
   "metadata": {},
   "outputs": [],
   "source": []
  },
  {
   "cell_type": "code",
   "execution_count": null,
   "metadata": {},
   "outputs": [],
   "source": []
  },
  {
   "cell_type": "code",
   "execution_count": null,
   "metadata": {},
   "outputs": [],
   "source": []
  },
  {
   "cell_type": "markdown",
   "metadata": {},
   "source": [
    "## maag"
   ]
  },
  {
   "cell_type": "code",
   "execution_count": null,
   "metadata": {},
   "outputs": [],
   "source": [
    "# !pip install thop"
   ]
  },
  {
   "cell_type": "code",
   "execution_count": null,
   "metadata": {},
   "outputs": [],
   "source": [
    "from thop import profile"
   ]
  },
  {
   "cell_type": "code",
   "execution_count": null,
   "metadata": {},
   "outputs": [],
   "source": [
    "import librosa\n",
    "import librosa.display\n",
    "import numpy as np\n",
    "import matplotlib.pyplot as plt\n",
    "\n",
    "sample_rate = 22050\n",
    "t = np.linspace(0, 1, sample_rate, endpoint=False)\n",
    "signal = np.sin(2 * np.pi * 440 * t)\n",
    "\n",
    "mel_spectrogram = librosa.feature.melspectrogram(y=signal, \n",
    "                                                 sr=sample_rate, \n",
    "                                                 n_fft=1024, \n",
    "                                                 hop_length=256,\n",
    "                                                 n_mels=80)\n",
    "\n",
    "mel_tensor = torch.tensor(mel_spectrogram).float().unsqueeze(0) "
   ]
  },
  {
   "cell_type": "code",
   "execution_count": null,
   "metadata": {},
   "outputs": [
    {
     "name": "stdout",
     "output_type": "stream",
     "text": [
      "[INFO] Register count_convNd() for <class 'torch.nn.modules.conv.Conv1d'>.\n",
      "[INFO] Register count_convNd() for <class 'torch.nn.modules.conv.ConvTranspose1d'>.\n",
      "MACs: 1931784192.0, Parameters: 928514.0\n"
     ]
    }
   ],
   "source": [
    "cfg_filename = '/Users/liliyaivannikova/Documents/vkr/pytorch_project/research/istftnet/pretrained/cfgs/config.json'  \n",
    "    \n",
    "with open(cfg_filename, 'r') as f:\n",
    "    json_config = json.load(f)\n",
    "    \n",
    "h = AttrDict(json_config)\n",
    "\n",
    "model = HiFiGAN(h).eval()\n",
    "\n",
    "macs, params = profile(model, inputs=(mel_tensor,))\n",
    "\n",
    "print(f\"MACs: {macs}, Parameters: {params}\")"
   ]
  },
  {
   "cell_type": "code",
   "execution_count": null,
   "metadata": {},
   "outputs": [
    {
     "name": "stdout",
     "output_type": "stream",
     "text": [
      "[INFO] Register count_convNd() for <class 'torch.nn.modules.conv.Conv1d'>.\n",
      "[INFO] Register count_convNd() for <class 'torch.nn.modules.conv.ConvTranspose1d'>.\n",
      "MACs: 30818746368.0, Parameters: 13936130.0\n"
     ]
    }
   ],
   "source": [
    "from pretrained.Models.hifigan import HiFiGAN\n",
    "\n",
    "cfg_filename = '/Users/liliyaivannikova/Documents/vkr/pytorch_project/research/istftnet/pretrained/cfgs/hifigan_v1_config.json'  \n",
    "  \n",
    "with open(cfg_filename, 'r') as f:\n",
    "    json_config = json.load(f)\n",
    "    \n",
    "h = AttrDict(json_config)\n",
    "\n",
    "model = HiFiGAN(h).eval()\n",
    "\n",
    "macs, params = profile(model, inputs=(mel_tensor,))\n",
    "\n",
    "print(f\"MACs: {macs}, Parameters: {params}\")"
   ]
  },
  {
   "cell_type": "code",
   "execution_count": null,
   "metadata": {},
   "outputs": [
    {
     "name": "stdout",
     "output_type": "stream",
     "text": [
      "[INFO] Register count_convNd() for <class 'torch.nn.modules.conv.Conv1d'>.\n",
      "[INFO] Register count_convNd() for <class 'torch.nn.modules.conv.ConvTranspose1d'>.\n",
      "MACs: 21735350016.0, Parameters: 13262244.0\n"
     ]
    }
   ],
   "source": [
    "cfg_filename = '/Users/liliyaivannikova/Documents/vkr/pytorch_project/research/istftnet/pretrained/cfgs/istftnet_config.json'  \n",
    "    \n",
    "with open(cfg_filename, 'r') as f:\n",
    "    json_config = json.load(f)\n",
    "    \n",
    "h = AttrDict(json_config)\n",
    "\n",
    "model = iSTFTNet(h).eval()\n",
    "\n",
    "macs, params = profile(model, inputs=(mel_tensor,))\n",
    "\n",
    "print(f\"MACs: {macs}, Parameters: {params}\")"
   ]
  },
  {
   "cell_type": "code",
   "execution_count": null,
   "metadata": {},
   "outputs": [
    {
     "name": "stdout",
     "output_type": "stream",
     "text": [
      "[INFO] Register count_convNd() for <class 'torch.nn.modules.conv.Conv1d'>.\n",
      "[INFO] Register count_normalization() for <class 'torch.nn.modules.normalization.LayerNorm'>.\n",
      "[INFO] Register count_linear() for <class 'torch.nn.modules.linear.Linear'>.\n",
      "MACs: 1581446589.0, Parameters: 18190861.0\n"
     ]
    }
   ],
   "source": [
    "cfg_filename = '/Users/liliyaivannikova/Documents/vkr/pytorch_project/research/istftnet/pretrained/cfgs/freev_config.json'  \n",
    "    \n",
    "with open(cfg_filename, 'r') as f:\n",
    "    json_config = json.load(f)\n",
    "    \n",
    "h = AttrDict(json_config)\n",
    "\n",
    "model = FreeV(h).eval()\n",
    "\n",
    "macs, params = profile(model, inputs=(mel_tensor, ))\n",
    "\n",
    "print(f\"MACs: {macs}, Parameters: {params}\")"
   ]
  },
  {
   "cell_type": "code",
   "execution_count": null,
   "metadata": {},
   "outputs": [
    {
     "name": "stdout",
     "output_type": "stream",
     "text": [
      "[INFO] Register count_normalization() for <class 'torch.nn.modules.normalization.LayerNorm'>.\n",
      "[INFO] Register count_convNd() for <class 'torch.nn.modules.conv.Conv1d'>.\n",
      "[INFO] Register count_linear() for <class 'torch.nn.modules.linear.Linear'>.\n",
      "[INFO] Register count_convNd() for <class 'torch.nn.modules.conv.ConvTranspose1d'>.\n",
      "[INFO] Register zero_ops() for <class 'torch.nn.modules.container.Sequential'>.\n",
      "MACs: 2550692913.0, Parameters: 5638572.0\n"
     ]
    }
   ],
   "source": [
    "cfg_filename = '/Users/liliyaivannikova/Documents/vkr/pytorch_project/audio_vocoder/src/configs/model_fin.json'  \n",
    "    \n",
    "with open(cfg_filename, 'r') as f:\n",
    "    json_config = json.load(f)\n",
    "    \n",
    "h = AttrDict(json_config)\n",
    "\n",
    "model = Generator(h).eval()\n",
    "\n",
    "macs, params = profile(model, inputs=(mel_tensor, ))\n",
    "\n",
    "print(f\"MACs: {macs}, Parameters: {params}\")"
   ]
  },
  {
   "cell_type": "code",
   "execution_count": null,
   "metadata": {},
   "outputs": [],
   "source": [
    "sys.path.append('/Users/liliyaivannikova/Documents/vkr/pytorch_project/vocos/')"
   ]
  },
  {
   "cell_type": "code",
   "execution_count": null,
   "metadata": {},
   "outputs": [],
   "source": [
    "# !pip install pytorch_lightning==1.8.6"
   ]
  },
  {
   "cell_type": "code",
   "execution_count": null,
   "metadata": {},
   "outputs": [],
   "source": [
    "from vocos.pretrained import Vocos\n",
    "from vocos.feature_extractors import MelSpectrogramFeatures\n",
    "from vocos.models import VocosBackbone\n",
    "from vocos.heads import ISTFTHead\n",
    "import yaml\n",
    "\n",
    "cfg_filename = '/Users/liliyaivannikova/Documents/vkr/pytorch_project/vocos/configs/vocos.json'  \n",
    "\n",
    "with open(cfg_filename, 'r') as f:\n",
    "    json_config = json.load(f)\n",
    "    \n",
    "model_init_args = json_config[\"model\"][\"init_args\"]\n",
    "\n",
    "# Извлекаем подконфиги\n",
    "feature_extractor_cfg = model_init_args.pop(\"feature_extractor\")\n",
    "backbone_cfg = model_init_args.pop(\"backbone\")\n",
    "head_cfg = model_init_args.pop(\"head\")\n",
    "\n",
    "# Создаём компоненты\n",
    "feature_extractor = MelSpectrogramFeatures(**feature_extractor_cfg['init_args'])\n",
    "backbone = VocosBackbone(**backbone_cfg['init_args'])\n",
    "head = ISTFTHead(**head_cfg['init_args'])"
   ]
  },
  {
   "cell_type": "code",
   "execution_count": null,
   "metadata": {},
   "outputs": [
    {
     "name": "stdout",
     "output_type": "stream",
     "text": [
      "[INFO] Register count_convNd() for <class 'torch.nn.modules.conv.Conv1d'>.\n",
      "[INFO] Register count_normalization() for <class 'torch.nn.modules.normalization.LayerNorm'>.\n",
      "[INFO] Register count_linear() for <class 'torch.nn.modules.linear.Linear'>.\n",
      "MACs: 1169636352.0, Parameters: 13455874.0\n"
     ]
    }
   ],
   "source": [
    "model = Vocos(feature_extractor=feature_extractor,\n",
    "                backbone=backbone,\n",
    "                head=head,).eval()\n",
    "\n",
    "class DecodeWrapper(torch.nn.Module):\n",
    "    def __init__(self, model):\n",
    "        super().__init__()\n",
    "        self.model = model\n",
    "\n",
    "    def forward(self, x):\n",
    "        return self.model.decode(x)\n",
    "\n",
    "wrapper = DecodeWrapper(model)\n",
    "\n",
    "macs, params = profile(wrapper, inputs=(mel_tensor,))\n",
    "\n",
    "print(f\"MACs: {macs}, Parameters: {params}\")"
   ]
  },
  {
   "cell_type": "code",
   "execution_count": null,
   "metadata": {},
   "outputs": [],
   "source": []
  },
  {
   "cell_type": "code",
   "execution_count": null,
   "metadata": {},
   "outputs": [],
   "source": []
  },
  {
   "cell_type": "code",
   "execution_count": null,
   "metadata": {},
   "outputs": [],
   "source": []
  },
  {
   "cell_type": "markdown",
   "metadata": {},
   "source": [
    "## лчм"
   ]
  },
  {
   "cell_type": "code",
   "execution_count": null,
   "metadata": {},
   "outputs": [],
   "source": [
    "%matplotlib inline"
   ]
  },
  {
   "cell_type": "code",
   "execution_count": null,
   "metadata": {},
   "outputs": [
    {
     "data": {
      "image/png": "[encoded data removed]",
      "text/plain": [
       "<Figure size 1200x600 with 3 Axes>"
      ]
     },
     "metadata": {},
     "output_type": "display_data"
    }
   ],
   "source": [
    "import numpy as np\n",
    "import matplotlib.pyplot as plt\n",
    "from scipy.signal import chirp\n",
    "\n",
    "# Параметры сигнала\n",
    "duration = 0.5          # Длительность сигнала (с)\n",
    "sample_rate = 5100     # Частота дискретизации (Гц)\n",
    "num_samples = int(sample_rate * duration)\n",
    "\n",
    "# Генерация ЛЧМ-сигнала (линейная частотная модуляция)\n",
    "t = np.linspace(0, duration, num_samples, endpoint=False)\n",
    "f_start = 0             # Начальная частота (Гц)\n",
    "f_end = sample_rate / 2 # Конечная частота (до частоты Найквиста)\n",
    "wideband_signal = chirp(t, f_start, duration, f_end, method='linear')\n",
    "\n",
    "# Построение временного графика сигнала\n",
    "plt.figure(figsize=(12, 6))\n",
    "plt.subplot(2, 1, 1)\n",
    "plt.plot(t, wideband_signal, color='blue', linewidth=0.5)\n",
    "plt.title(\"Сигнал во временной области\")\n",
    "plt.xlabel(\"Время (с)\")\n",
    "plt.ylabel(\"Амплитуда\")\n",
    "\n",
    "# Построение спектрограммы\n",
    "plt.subplot(2, 1, 2)\n",
    "plt.specgram(wideband_signal, NFFT=1024, Fs=sample_rate, noverlap=512, cmap='viridis')\n",
    "plt.title(\"Спектрограмма сигнала\")\n",
    "plt.xlabel(\"Время (с)\")\n",
    "plt.ylabel(\"Частота (Гц)\")\n",
    "plt.colorbar(label=\"Интенсивность (дБ)\")\n",
    "\n",
    "plt.tight_layout()\n",
    "plt.show()"
   ]
  },
  {
   "cell_type": "code",
   "execution_count": null,
   "metadata": {},
   "outputs": [],
   "source": []
  },
  {
   "cell_type": "code",
   "execution_count": null,
   "metadata": {},
   "outputs": [],
   "source": [
    "import os\n",
    "import argparse\n",
    "import json\n",
    "import torch\n",
    "\n",
    "from src.model.model_fin import ConvNeXtBlock\n"
   ]
  },
  {
   "cell_type": "code",
   "execution_count": null,
   "metadata": {},
   "outputs": [],
   "source": [
    "parser = argparse.ArgumentParser(description='Vocoder training configuration')\n",
    "    \n",
    "cfg_filename = '/Users/liliyaivannikova/Documents/vkr/pytorch_project/audio_vocoder/src/configs/model_fin.json'  \n",
    "    \n",
    "with open(cfg_filename, 'r') as f:\n",
    "        json_config = json.load(f)\n",
    "    \n",
    "h = AttrDict(json_config)"
   ]
  },
  {
   "cell_type": "code",
   "execution_count": null,
   "metadata": {},
   "outputs": [],
   "source": [
    "model = ConvNeXtBlock(\n",
    "    dim=h.ASP_channel, \n",
    "    intermediate_dim=1536, \n",
    "    layer_scale_init_value=1 / 8, \n",
    "    adanorm_num_embeddings=None\n",
    ")"
   ]
  },
  {
   "cell_type": "code",
   "execution_count": null,
   "metadata": {},
   "outputs": [
    {
     "name": "stdout",
     "output_type": "stream",
     "text": [
      "Total trainable parameters: 1,586,187\n"
     ]
    }
   ],
   "source": [
    "def count_parameters(model):\n",
    "    return sum(p.numel() for p in model.parameters() if p.requires_grad)\n",
    "\n",
    "model = Generator(h)\n",
    "print(f\"Total trainable parameters: {count_parameters(model):,}\")"
   ]
  }
 ],
 "metadata": {
  "language_info": {
   "name": "python"
  }
 },
 "nbformat": 4,
 "nbformat_minor": 2
}
